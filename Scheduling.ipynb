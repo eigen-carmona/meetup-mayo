{
 "cells": [
  {
   "cell_type": "markdown",
   "metadata": {},
   "source": [
    "# '''PyConLatam'''\n",
    "Queremos agendar las distintas conferencias y talleres que se impartirán en el PyConLatam"
   ]
  },
  {
   "cell_type": "code",
   "execution_count": 1,
   "metadata": {},
   "outputs": [],
   "source": [
    "from ortools.sat.python import cp_model\n",
    "import pandas as pd"
   ]
  },
  {
   "cell_type": "code",
   "execution_count": 2,
   "metadata": {},
   "outputs": [],
   "source": [
    "#Generando instancias del modelo y el solver:\n",
    "model = cp_model.CpModel()\n",
    "solver = cp_model.CpSolver()"
   ]
  },
  {
   "cell_type": "code",
   "execution_count": 16,
   "metadata": {},
   "outputs": [],
   "source": [
    "#Generando variables del problema:\n",
    "talks = pd.read_csv('PyConLatam.csv', \";\")"
   ]
  },
  {
   "cell_type": "code",
   "execution_count": 17,
   "metadata": {},
   "outputs": [
    {
     "data": {
      "text/html": [
       "<div>\n",
       "<style scoped>\n",
       "    .dataframe tbody tr th:only-of-type {\n",
       "        vertical-align: middle;\n",
       "    }\n",
       "\n",
       "    .dataframe tbody tr th {\n",
       "        vertical-align: top;\n",
       "    }\n",
       "\n",
       "    .dataframe thead th {\n",
       "        text-align: right;\n",
       "    }\n",
       "</style>\n",
       "<table border=\"1\" class=\"dataframe\">\n",
       "  <thead>\n",
       "    <tr style=\"text-align: right;\">\n",
       "      <th></th>\n",
       "      <th>Charla</th>\n",
       "      <th>Ponentes</th>\n",
       "      <th>Tipo de charla</th>\n",
       "      <th>Turno preferido</th>\n",
       "      <th>Duración</th>\n",
       "      <th>Dias posibles</th>\n",
       "    </tr>\n",
       "  </thead>\n",
       "  <tbody>\n",
       "    <tr>\n",
       "      <th>0</th>\n",
       "      <td>“Phyton: Python para fisica”</td>\n",
       "      <td>Carlangas</td>\n",
       "      <td>Conferencia</td>\n",
       "      <td>tarde</td>\n",
       "      <td>45</td>\n",
       "      <td>jueves, viernes, sábado</td>\n",
       "    </tr>\n",
       "    <tr>\n",
       "      <th>1</th>\n",
       "      <td>“Introducción a Pandas”</td>\n",
       "      <td>Juanito</td>\n",
       "      <td>Taller</td>\n",
       "      <td>mediodía</td>\n",
       "      <td>60</td>\n",
       "      <td>jueves, viernes, sábado</td>\n",
       "    </tr>\n",
       "    <tr>\n",
       "      <th>2</th>\n",
       "      <td>“Quantum Machine Learning con Python”</td>\n",
       "      <td>Seth Lloyd</td>\n",
       "      <td>Taller</td>\n",
       "      <td>mañana</td>\n",
       "      <td>60</td>\n",
       "      <td>jueves, sábado</td>\n",
       "    </tr>\n",
       "    <tr>\n",
       "      <th>3</th>\n",
       "      <td>“Buenas prácticas con NumPy”</td>\n",
       "      <td>Carlangas</td>\n",
       "      <td>Taller</td>\n",
       "      <td>mediodía</td>\n",
       "      <td>30</td>\n",
       "      <td>jueves, viernes, sábado</td>\n",
       "    </tr>\n",
       "    <tr>\n",
       "      <th>4</th>\n",
       "      <td>“Mejores prácticas con NumBa”</td>\n",
       "      <td>Carlangas</td>\n",
       "      <td>Taller</td>\n",
       "      <td>tarde</td>\n",
       "      <td>30</td>\n",
       "      <td>jueves, viernes, sábado</td>\n",
       "    </tr>\n",
       "    <tr>\n",
       "      <th>5</th>\n",
       "      <td>“¿Es python una buena idea para el cómputo cie...</td>\n",
       "      <td>Seth Lloyd, Carlangas</td>\n",
       "      <td>Mesa Redonda</td>\n",
       "      <td>tarde</td>\n",
       "      <td>90</td>\n",
       "      <td>viernes, sábado</td>\n",
       "    </tr>\n",
       "    <tr>\n",
       "      <th>6</th>\n",
       "      <td>“Testing en cómputo científico y por qué los c...</td>\n",
       "      <td>Pedro Navajas</td>\n",
       "      <td>Conferencia</td>\n",
       "      <td>mediodía</td>\n",
       "      <td>60</td>\n",
       "      <td>jueves, viernes</td>\n",
       "    </tr>\n",
       "    <tr>\n",
       "      <th>7</th>\n",
       "      <td>“Testing en AI y cómo evitar Skynet”</td>\n",
       "      <td>Sarah Connor</td>\n",
       "      <td>Conferencia</td>\n",
       "      <td>mediodía</td>\n",
       "      <td>60</td>\n",
       "      <td>sábado, viernes</td>\n",
       "    </tr>\n",
       "    <tr>\n",
       "      <th>8</th>\n",
       "      <td>“Python para la industria 4.0”</td>\n",
       "      <td>El Fede</td>\n",
       "      <td>Conferencia</td>\n",
       "      <td>mañana</td>\n",
       "      <td>45</td>\n",
       "      <td>jueves, viernes</td>\n",
       "    </tr>\n",
       "    <tr>\n",
       "      <th>9</th>\n",
       "      <td>“Muerte al OOP”</td>\n",
       "      <td>El Barriuc</td>\n",
       "      <td>Conferencia</td>\n",
       "      <td>tarde</td>\n",
       "      <td>60</td>\n",
       "      <td>viernes, sábado</td>\n",
       "    </tr>\n",
       "    <tr>\n",
       "      <th>10</th>\n",
       "      <td>“Scripts para la vida”</td>\n",
       "      <td>MichBc</td>\n",
       "      <td>Taller</td>\n",
       "      <td>mediodía</td>\n",
       "      <td>45</td>\n",
       "      <td>jueves, sábado</td>\n",
       "    </tr>\n",
       "    <tr>\n",
       "      <th>11</th>\n",
       "      <td>“¿Deberían todos programar?”</td>\n",
       "      <td>Juanito, Sarah Connor</td>\n",
       "      <td>Mesa Redonda</td>\n",
       "      <td>mañana</td>\n",
       "      <td>90</td>\n",
       "      <td>jueves, viernes, sábado</td>\n",
       "    </tr>\n",
       "  </tbody>\n",
       "</table>\n",
       "</div>"
      ],
      "text/plain": [
       "                                               Charla               Ponentes  \\\n",
       "0                        “Phyton: Python para fisica”              Carlangas   \n",
       "1                             “Introducción a Pandas”                Juanito   \n",
       "2               “Quantum Machine Learning con Python”             Seth Lloyd   \n",
       "3                        “Buenas prácticas con NumPy”              Carlangas   \n",
       "4                       “Mejores prácticas con NumBa”              Carlangas   \n",
       "5   “¿Es python una buena idea para el cómputo cie...  Seth Lloyd, Carlangas   \n",
       "6   “Testing en cómputo científico y por qué los c...          Pedro Navajas   \n",
       "7                “Testing en AI y cómo evitar Skynet”           Sarah Connor   \n",
       "8                      “Python para la industria 4.0”                El Fede   \n",
       "9                                     “Muerte al OOP”             El Barriuc   \n",
       "10                             “Scripts para la vida”                 MichBc   \n",
       "11                       “¿Deberían todos programar?”  Juanito, Sarah Connor   \n",
       "\n",
       "   Tipo de charla Turno preferido  Duración            Dias posibles  \n",
       "0     Conferencia           tarde        45  jueves, viernes, sábado  \n",
       "1          Taller        mediodía        60  jueves, viernes, sábado  \n",
       "2          Taller          mañana        60           jueves, sábado  \n",
       "3          Taller        mediodía        30  jueves, viernes, sábado  \n",
       "4          Taller           tarde        30  jueves, viernes, sábado  \n",
       "5    Mesa Redonda           tarde        90          viernes, sábado  \n",
       "6     Conferencia        mediodía        60          jueves, viernes  \n",
       "7     Conferencia        mediodía        60          sábado, viernes  \n",
       "8     Conferencia          mañana        45          jueves, viernes  \n",
       "9     Conferencia           tarde        60          viernes, sábado  \n",
       "10         Taller        mediodía        45           jueves, sábado  \n",
       "11   Mesa Redonda          mañana        90  jueves, viernes, sábado  "
      ]
     },
     "execution_count": 17,
     "metadata": {},
     "output_type": "execute_result"
    }
   ],
   "source": [
    "talks"
   ]
  },
  {
   "cell_type": "code",
   "execution_count": 18,
   "metadata": {
    "scrolled": true
   },
   "outputs": [],
   "source": [
    "events = []\n",
    "for i in range(len(talks)):\n",
    "    event = {}\n",
    "    for j in range(len(talks.loc[i])):\n",
    "        event.update({talks.columns[j]:talks.loc[i][j]})\n",
    "    events.append(event)"
   ]
  },
  {
   "cell_type": "code",
   "execution_count": 19,
   "metadata": {},
   "outputs": [],
   "source": [
    "intervals = {}\n",
    "active_variables = {}\n",
    "start = {}\n",
    "end = {}\n",
    "#Las charlas son a lo largo de tres días\n",
    "days = ['jueves', 'viernes', 'sábado']\n",
    "#Cada día de charlas tiene ocho horas (De 10 AM a 6 PM)\n",
    "length = 8\n",
    "total_time = 60*length\n",
    "#Creamos las variables que representen al proceso\n",
    "for event in events:\n",
    "    event_name = event['Charla']\n",
    "    for day in days:\n",
    "        start[(event_name,day)] = model.NewIntVar(0,total_time, 'start %s' % event_name)\n",
    "        duration = event['Duración']\n",
    "        end[(event_name,day)] = model.NewIntVar(duration,total_time, 'end %s' % event_name)\n",
    "        active_variables[(event_name,day)] = model.NewBoolVar('active_%s_%s' %(event_name,day))\n",
    "        intervals[(event_name, day)] = model.NewOptionalIntervalVar(\n",
    "            start[(event_name,day)], \n",
    "            duration, \n",
    "            end[(event_name,day)], \n",
    "            active_variables[(event_name,day)], \n",
    "            '%s_%s' %(event_name, day)\n",
    "        )"
   ]
  },
  {
   "cell_type": "code",
   "execution_count": 20,
   "metadata": {},
   "outputs": [],
   "source": [
    "#Cada día, hay un break de una hora para la comida a las 12:00PM y otro de 15 minutos para café a las 4:30PM\n",
    "breaks = {}\n",
    "for day in days:\n",
    "    #Primer break\n",
    "    breaks[day] = model.NewIntervalVar(2*60,60,3*60, 'Comida %s' %day)\n",
    "    #Segundo break\n",
    "    breaks[day] = model.NewIntervalVar(int(6.5*60),15,int(6.75*60), 'Break %s' %day)"
   ]
  },
  {
   "cell_type": "code",
   "execution_count": 21,
   "metadata": {},
   "outputs": [],
   "source": [
    "'''Cada evento debe ocurrir exactamente una vez'''\n",
    "for event in events:\n",
    "    model.Add(sum(active_variables[(event['Charla'], day)] for day in days) == 1)"
   ]
  },
  {
   "cell_type": "code",
   "execution_count": 22,
   "metadata": {},
   "outputs": [
    {
     "name": "stdout",
     "output_type": "stream",
     "text": [
      "viernes\n",
      "jueves\n",
      "sábado\n",
      "jueves\n",
      "sábado\n",
      "jueves\n",
      "viernes\n"
     ]
    }
   ],
   "source": [
    "'''Restringir los días que no pueden ocurrir las pláticas'''\n",
    "for event in events:\n",
    "    for day in days:\n",
    "        if day not in event['Dias posibles']:\n",
    "            print(day)\n",
    "            model.Add(active_variables[(event_name,day)] == 0)"
   ]
  },
  {
   "cell_type": "code",
   "execution_count": 10,
   "metadata": {},
   "outputs": [],
   "source": [
    "'''Los eventos no deben traslaparse'''\n",
    "for day in days:\n",
    "    day_events = [intervals[(event['Charla'],day)] for event in events]\n",
    "    day_events.append(breaks[day])\n",
    "    model.AddNoOverlap(day_events)"
   ]
  },
  {
   "cell_type": "code",
   "execution_count": 11,
   "metadata": {},
   "outputs": [],
   "source": [
    "status = solver.Solve(model)"
   ]
  },
  {
   "cell_type": "code",
   "execution_count": 12,
   "metadata": {},
   "outputs": [
    {
     "data": {
      "text/plain": [
       "3"
      ]
     },
     "execution_count": 12,
     "metadata": {},
     "output_type": "execute_result"
    }
   ],
   "source": [
    "status"
   ]
  },
  {
   "cell_type": "code",
   "execution_count": 13,
   "metadata": {},
   "outputs": [],
   "source": [
    "if status in [2,4]:\n",
    "    for day in days:\n",
    "        print(day)\n",
    "        for event in events:\n",
    "            if solver.Value(active_variables[(event['Charla'], day)]):\n",
    "                event_name = event['Charla']\n",
    "                print('%s de %i a %i' %(event_name, solver.Value(start[(event_name,day)]), solver.Value(end[(event_name,day)])))\n",
    "        print()"
   ]
  }
 ],
 "metadata": {
  "kernelspec": {
   "display_name": "Python 3",
   "language": "python",
   "name": "python3"
  },
  "language_info": {
   "codemirror_mode": {
    "name": "ipython",
    "version": 3
   },
   "file_extension": ".py",
   "mimetype": "text/x-python",
   "name": "python",
   "nbconvert_exporter": "python",
   "pygments_lexer": "ipython3",
   "version": "3.5.2"
  }
 },
 "nbformat": 4,
 "nbformat_minor": 2
}
