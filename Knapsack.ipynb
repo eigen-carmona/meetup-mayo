{
 "cells": [
  {
   "cell_type": "markdown",
   "metadata": {},
   "source": [
    "# '''Hobbit viajero'''\n",
    "Bilbo Baggins emprenderá un viaje fuera de la Comarca. Ya que pasará dos días de camino por el bosque antes de llegar a algún pueblo, por lo que deberá cargar con las provisiones suficientes.\n",
    "\n",
    "Deseamos cargar con provisiones suficientes para no morir de hambre, pero Bilbo es un Hobbit ocurrente, por lo que considera cargar con sus libretas de poemas y demás. Debe encontrar la combinación adecuada para que el viaje sea soportable."
   ]
  },
  {
   "cell_type": "code",
   "execution_count": 13,
   "metadata": {},
   "outputs": [],
   "source": [
    "#Tiene dos mochilas que pueden contener cuando mucho 5.0L y 3.8, respectivamente:\n",
    "bags = range(1,3)\n",
    "max_volume_bag_1 = 50000\n",
    "max_volume_bag_2 = 35000\n",
    "#Pero tampoco queremos lastimar nuestras espaldas, pues no habrá elfos de los que curan:\n",
    "max_mass = 35000\n",
    "#Los hobbits comen siete veces al día.\n",
    "#Pero Bilbo está dispuesto a comer quizá sólo 5 veces.\n",
    "#Hay dos tipos de nutrientes esenciales: nutriente 1 y nutriente 2. Diario debe ingerir al menos:\n",
    "daily_minimum_nutrient_1 = 1000\n",
    "daily_minimum_nutrient_2 = 3000"
   ]
  },
  {
   "cell_type": "code",
   "execution_count": 14,
   "metadata": {},
   "outputs": [],
   "source": [
    "#Estas son todas las provisiones posibles:\n",
    "provisiones ={\n",
    "    'Libreta de poemas': {'volumen': 200, 'masa': 200, 'valor':700, 'nutricional_1': 1, 'nutricional_2': 1},\n",
    "    'Libreta de cuentos': {'volumen': 250, 'masa': 250, 'valor': 500, 'nutricional_1': 1, 'nutricional_2': 1},\n",
    "    'Libreta de canciones': {'volumen': 200, 'masa': 200, 'valor': 100, 'nutricional_1': 0, 'nutricional_2': 0},\n",
    "    'Cobija muy caliente': {'volumen': 12000, 'masa': 40000, 'valor': 1200, 'nutricional_1': 0, 'nutricional_2': 0},\n",
    "    'Cobija regular': {'volumen': 12000, 'masa': 24000, 'valor': 400, 'nutricional_1': 0, 'nutricional_2': 0},\n",
    "    'Pieza de pan de lembas': {'volumen': 100, 'masa': 300, 'valor': 100, 'nutricional_1': 120, 'nutricional_2': 10},\n",
    "    'Puño de raíces de enano': {'volumen': 50, 'masa': 30, 'valor': 10, 'nutricional_1':0, 'nutricional_2': 40},\n",
    "    'Pastel de miel': {'volumen': 250, 'masa': 750, 'valor': 250, 'nutricional_1':300, 'nutricional_2': 80},\n",
    "    'Puño de hojas para la pipa': {'volumen': 50, 'masa': 100, 'valor': 600, 'nutricional_1': 0, 'nutricional_2': 10},\n",
    "}"
   ]
  },
  {
   "cell_type": "code",
   "execution_count": 15,
   "metadata": {},
   "outputs": [],
   "source": [
    "from ortools.sat.python import cp_model\n",
    "model = cp_model.CpModel()\n",
    "solver = cp_model.CpSolver()"
   ]
  },
  {
   "cell_type": "code",
   "execution_count": 16,
   "metadata": {},
   "outputs": [],
   "source": [
    "how_many = {}\n",
    "for item in provisiones:\n",
    "    for bag in bags:\n",
    "        if 'Libreta' in item or 'Cobija' in item:\n",
    "            how_many[(item, bag)] = model.NewBoolVar('%s_bag_%i' %(item, bag))\n",
    "        else:\n",
    "            how_many[(item,bag)] = model.NewIntVar(0,100,'units_of_%s_in_bag_%i' %(item, bag))"
   ]
  },
  {
   "cell_type": "code",
   "execution_count": 17,
   "metadata": {},
   "outputs": [],
   "source": [
    "#No podemos exceder el inventario disponible de cada producto:\n",
    "for item in provisiones:\n",
    "    model.Add(sum(how_many[(item, bag)] for bag in bags) <= 100)"
   ]
  },
  {
   "cell_type": "code",
   "execution_count": 18,
   "metadata": {},
   "outputs": [
    {
     "data": {
      "text/plain": [
       "<ortools.sat.python.cp_model.Constraint at 0x7f0ab816b080>"
      ]
     },
     "execution_count": 18,
     "metadata": {},
     "output_type": "execute_result"
    }
   ],
   "source": [
    "model.Add(sum([how_many[(a, i)] for a in ['Cobija muy caliente', 'Cobija regular'] for i in bags]) == 1)\n",
    "model.Add(sum([how_many[(a, i)] for a in provisiones if 'Libreta' in a for i in bags])>=1)"
   ]
  },
  {
   "cell_type": "code",
   "execution_count": 19,
   "metadata": {
    "scrolled": true
   },
   "outputs": [
    {
     "data": {
      "text/plain": [
       "<ortools.sat.python.cp_model.Constraint at 0x7f0ab817f0f0>"
      ]
     },
     "execution_count": 19,
     "metadata": {},
     "output_type": "execute_result"
    }
   ],
   "source": [
    "#No podemos exceder el volumen de las mochilas:\n",
    "model.Add(sum(provisiones[a]['volumen']*how_many[(a,1)] for a in provisiones) <= max_volume_bag_1)\n",
    "model.Add(sum(provisiones[a]['volumen']*how_many[(a,2)] for a in provisiones) <= max_volume_bag_2)\n",
    "#No podemos exceder la masa que puede cargar Bilbo:\n",
    "model.Add(sum(provisiones[a]['volumen']*how_many[(a,i)] for a in provisiones for i in bags) <= max_mass)\n",
    "#Bilbo no debe morir de inanición:\n",
    "model.Add(sum(provisiones[a]['nutricional_1']*how_many[(a,i)] for a in provisiones for i in bags) >= 2*daily_minimum_nutrient_1)\n",
    "model.Add(sum(provisiones[a]['nutricional_2']*how_many[(a,i)] for a in provisiones for i in bags) >= 2*daily_minimum_nutrient_2)"
   ]
  },
  {
   "cell_type": "code",
   "execution_count": 20,
   "metadata": {},
   "outputs": [],
   "source": [
    "#Definimos un valor objetivo:\n",
    "model.Maximize(sum(provisiones[item]['valor']*how_many[(item,bag)] for item in provisiones for bag in bags))"
   ]
  },
  {
   "cell_type": "code",
   "execution_count": 21,
   "metadata": {},
   "outputs": [],
   "source": [
    "status = solver.Solve(model)"
   ]
  },
  {
   "cell_type": "code",
   "execution_count": 22,
   "metadata": {},
   "outputs": [
    {
     "name": "stdout",
     "output_type": "stream",
     "text": [
      "Carga de mochila 1:\n",
      "1 unidades de Libreta de poemas\n",
      "60 unidades de Pastel de miel\n",
      "21 unidades de Pieza de pan de lembas\n",
      "1 unidades de Puño de hojas para la pipa\n",
      "1 unidades de Libreta de cuentos\n",
      "\n",
      "Carga de mochila 2:\n",
      "1 unidades de Cobija muy caliente\n",
      "1 unidades de Libreta de poemas\n",
      "99 unidades de Puño de hojas para la pipa\n",
      "1 unidades de Libreta de cuentos\n",
      "\n"
     ]
    }
   ],
   "source": [
    "if status in [2,4]:\n",
    "    for bag in bags:\n",
    "        print('Carga de mochila %i:' %bag)\n",
    "        for item in provisiones:\n",
    "            if solver.Value(how_many[(item,bag)]) == 0:\n",
    "                continue\n",
    "            print('%i unidades de %s' %(solver.Value(how_many[(item,bag)]), item))\n",
    "        print()"
   ]
  },
  {
   "cell_type": "code",
   "execution_count": 23,
   "metadata": {},
   "outputs": [
    {
     "name": "stdout",
     "output_type": "stream",
     "text": [
      "Valor de felicidad: 80700\n"
     ]
    }
   ],
   "source": [
    "if status == 4:\n",
    "    print('Valor de felicidad: %i' %solver.ObjectiveValue())"
   ]
  }
 ],
 "metadata": {
  "kernelspec": {
   "display_name": "Python 3",
   "language": "python",
   "name": "python3"
  },
  "language_info": {
   "codemirror_mode": {
    "name": "ipython",
    "version": 3
   },
   "file_extension": ".py",
   "mimetype": "text/x-python",
   "name": "python",
   "nbconvert_exporter": "python",
   "pygments_lexer": "ipython3",
   "version": "3.5.2"
  }
 },
 "nbformat": 4,
 "nbformat_minor": 2
}
